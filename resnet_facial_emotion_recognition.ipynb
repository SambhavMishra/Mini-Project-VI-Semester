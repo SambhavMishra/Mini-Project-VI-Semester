{
  "nbformat": 4,
  "nbformat_minor": 0,
  "metadata": {
    "colab": {
      "provenance": [],
      "gpuType": "T4",
      "authorship_tag": "ABX9TyNZgmDX5BUOTGgkbLm3J1V7",
      "include_colab_link": true
    },
    "kernelspec": {
      "name": "python3",
      "display_name": "Python 3"
    },
    "language_info": {
      "name": "python"
    },
    "accelerator": "GPU",
    "gpuClass": "standard"
  },
  "cells": [
    {
      "cell_type": "markdown",
      "metadata": {
        "id": "view-in-github",
        "colab_type": "text"
      },
      "source": [
        "<a href=\"https://colab.research.google.com/github/SambhavMishra/Mini-Project-VI-Semester/blob/Sambhav/resnet_facial_emotion_recognition.ipynb\" target=\"_parent\"><img src=\"https://colab.research.google.com/assets/colab-badge.svg\" alt=\"Open In Colab\"/></a>"
      ]
    },
    {
      "cell_type": "code",
      "source": [
        "!pip install kaggle\n",
        "from google.colab import files\n",
        "files.upload()"
      ],
      "metadata": {
        "colab": {
          "base_uri": "https://localhost:8080/",
          "height": 298
        },
        "id": "93x5uuDrR3wF",
        "outputId": "102e0917-4e94-4463-b38d-95338f131658"
      },
      "execution_count": null,
      "outputs": [
        {
          "output_type": "stream",
          "name": "stdout",
          "text": [
            "Looking in indexes: https://pypi.org/simple, https://us-python.pkg.dev/colab-wheels/public/simple/\n",
            "Requirement already satisfied: kaggle in /usr/local/lib/python3.10/dist-packages (1.5.13)\n",
            "Requirement already satisfied: six>=1.10 in /usr/local/lib/python3.10/dist-packages (from kaggle) (1.16.0)\n",
            "Requirement already satisfied: certifi in /usr/local/lib/python3.10/dist-packages (from kaggle) (2022.12.7)\n",
            "Requirement already satisfied: python-dateutil in /usr/local/lib/python3.10/dist-packages (from kaggle) (2.8.2)\n",
            "Requirement already satisfied: requests in /usr/local/lib/python3.10/dist-packages (from kaggle) (2.27.1)\n",
            "Requirement already satisfied: tqdm in /usr/local/lib/python3.10/dist-packages (from kaggle) (4.65.0)\n",
            "Requirement already satisfied: python-slugify in /usr/local/lib/python3.10/dist-packages (from kaggle) (8.0.1)\n",
            "Requirement already satisfied: urllib3 in /usr/local/lib/python3.10/dist-packages (from kaggle) (1.26.15)\n",
            "Requirement already satisfied: text-unidecode>=1.3 in /usr/local/lib/python3.10/dist-packages (from python-slugify->kaggle) (1.3)\n",
            "Requirement already satisfied: charset-normalizer~=2.0.0 in /usr/local/lib/python3.10/dist-packages (from requests->kaggle) (2.0.12)\n",
            "Requirement already satisfied: idna<4,>=2.5 in /usr/local/lib/python3.10/dist-packages (from requests->kaggle) (3.4)\n"
          ]
        },
        {
          "output_type": "display_data",
          "data": {
            "text/plain": [
              "<IPython.core.display.HTML object>"
            ],
            "text/html": [
              "\n",
              "     <input type=\"file\" id=\"files-4481892b-4f64-4a32-801e-8e2f6faa23f9\" name=\"files[]\" multiple disabled\n",
              "        style=\"border:none\" />\n",
              "     <output id=\"result-4481892b-4f64-4a32-801e-8e2f6faa23f9\">\n",
              "      Upload widget is only available when the cell has been executed in the\n",
              "      current browser session. Please rerun this cell to enable.\n",
              "      </output>\n",
              "      <script>// Copyright 2017 Google LLC\n",
              "//\n",
              "// Licensed under the Apache License, Version 2.0 (the \"License\");\n",
              "// you may not use this file except in compliance with the License.\n",
              "// You may obtain a copy of the License at\n",
              "//\n",
              "//      http://www.apache.org/licenses/LICENSE-2.0\n",
              "//\n",
              "// Unless required by applicable law or agreed to in writing, software\n",
              "// distributed under the License is distributed on an \"AS IS\" BASIS,\n",
              "// WITHOUT WARRANTIES OR CONDITIONS OF ANY KIND, either express or implied.\n",
              "// See the License for the specific language governing permissions and\n",
              "// limitations under the License.\n",
              "\n",
              "/**\n",
              " * @fileoverview Helpers for google.colab Python module.\n",
              " */\n",
              "(function(scope) {\n",
              "function span(text, styleAttributes = {}) {\n",
              "  const element = document.createElement('span');\n",
              "  element.textContent = text;\n",
              "  for (const key of Object.keys(styleAttributes)) {\n",
              "    element.style[key] = styleAttributes[key];\n",
              "  }\n",
              "  return element;\n",
              "}\n",
              "\n",
              "// Max number of bytes which will be uploaded at a time.\n",
              "const MAX_PAYLOAD_SIZE = 100 * 1024;\n",
              "\n",
              "function _uploadFiles(inputId, outputId) {\n",
              "  const steps = uploadFilesStep(inputId, outputId);\n",
              "  const outputElement = document.getElementById(outputId);\n",
              "  // Cache steps on the outputElement to make it available for the next call\n",
              "  // to uploadFilesContinue from Python.\n",
              "  outputElement.steps = steps;\n",
              "\n",
              "  return _uploadFilesContinue(outputId);\n",
              "}\n",
              "\n",
              "// This is roughly an async generator (not supported in the browser yet),\n",
              "// where there are multiple asynchronous steps and the Python side is going\n",
              "// to poll for completion of each step.\n",
              "// This uses a Promise to block the python side on completion of each step,\n",
              "// then passes the result of the previous step as the input to the next step.\n",
              "function _uploadFilesContinue(outputId) {\n",
              "  const outputElement = document.getElementById(outputId);\n",
              "  const steps = outputElement.steps;\n",
              "\n",
              "  const next = steps.next(outputElement.lastPromiseValue);\n",
              "  return Promise.resolve(next.value.promise).then((value) => {\n",
              "    // Cache the last promise value to make it available to the next\n",
              "    // step of the generator.\n",
              "    outputElement.lastPromiseValue = value;\n",
              "    return next.value.response;\n",
              "  });\n",
              "}\n",
              "\n",
              "/**\n",
              " * Generator function which is called between each async step of the upload\n",
              " * process.\n",
              " * @param {string} inputId Element ID of the input file picker element.\n",
              " * @param {string} outputId Element ID of the output display.\n",
              " * @return {!Iterable<!Object>} Iterable of next steps.\n",
              " */\n",
              "function* uploadFilesStep(inputId, outputId) {\n",
              "  const inputElement = document.getElementById(inputId);\n",
              "  inputElement.disabled = false;\n",
              "\n",
              "  const outputElement = document.getElementById(outputId);\n",
              "  outputElement.innerHTML = '';\n",
              "\n",
              "  const pickedPromise = new Promise((resolve) => {\n",
              "    inputElement.addEventListener('change', (e) => {\n",
              "      resolve(e.target.files);\n",
              "    });\n",
              "  });\n",
              "\n",
              "  const cancel = document.createElement('button');\n",
              "  inputElement.parentElement.appendChild(cancel);\n",
              "  cancel.textContent = 'Cancel upload';\n",
              "  const cancelPromise = new Promise((resolve) => {\n",
              "    cancel.onclick = () => {\n",
              "      resolve(null);\n",
              "    };\n",
              "  });\n",
              "\n",
              "  // Wait for the user to pick the files.\n",
              "  const files = yield {\n",
              "    promise: Promise.race([pickedPromise, cancelPromise]),\n",
              "    response: {\n",
              "      action: 'starting',\n",
              "    }\n",
              "  };\n",
              "\n",
              "  cancel.remove();\n",
              "\n",
              "  // Disable the input element since further picks are not allowed.\n",
              "  inputElement.disabled = true;\n",
              "\n",
              "  if (!files) {\n",
              "    return {\n",
              "      response: {\n",
              "        action: 'complete',\n",
              "      }\n",
              "    };\n",
              "  }\n",
              "\n",
              "  for (const file of files) {\n",
              "    const li = document.createElement('li');\n",
              "    li.append(span(file.name, {fontWeight: 'bold'}));\n",
              "    li.append(span(\n",
              "        `(${file.type || 'n/a'}) - ${file.size} bytes, ` +\n",
              "        `last modified: ${\n",
              "            file.lastModifiedDate ? file.lastModifiedDate.toLocaleDateString() :\n",
              "                                    'n/a'} - `));\n",
              "    const percent = span('0% done');\n",
              "    li.appendChild(percent);\n",
              "\n",
              "    outputElement.appendChild(li);\n",
              "\n",
              "    const fileDataPromise = new Promise((resolve) => {\n",
              "      const reader = new FileReader();\n",
              "      reader.onload = (e) => {\n",
              "        resolve(e.target.result);\n",
              "      };\n",
              "      reader.readAsArrayBuffer(file);\n",
              "    });\n",
              "    // Wait for the data to be ready.\n",
              "    let fileData = yield {\n",
              "      promise: fileDataPromise,\n",
              "      response: {\n",
              "        action: 'continue',\n",
              "      }\n",
              "    };\n",
              "\n",
              "    // Use a chunked sending to avoid message size limits. See b/62115660.\n",
              "    let position = 0;\n",
              "    do {\n",
              "      const length = Math.min(fileData.byteLength - position, MAX_PAYLOAD_SIZE);\n",
              "      const chunk = new Uint8Array(fileData, position, length);\n",
              "      position += length;\n",
              "\n",
              "      const base64 = btoa(String.fromCharCode.apply(null, chunk));\n",
              "      yield {\n",
              "        response: {\n",
              "          action: 'append',\n",
              "          file: file.name,\n",
              "          data: base64,\n",
              "        },\n",
              "      };\n",
              "\n",
              "      let percentDone = fileData.byteLength === 0 ?\n",
              "          100 :\n",
              "          Math.round((position / fileData.byteLength) * 100);\n",
              "      percent.textContent = `${percentDone}% done`;\n",
              "\n",
              "    } while (position < fileData.byteLength);\n",
              "  }\n",
              "\n",
              "  // All done.\n",
              "  yield {\n",
              "    response: {\n",
              "      action: 'complete',\n",
              "    }\n",
              "  };\n",
              "}\n",
              "\n",
              "scope.google = scope.google || {};\n",
              "scope.google.colab = scope.google.colab || {};\n",
              "scope.google.colab._files = {\n",
              "  _uploadFiles,\n",
              "  _uploadFilesContinue,\n",
              "};\n",
              "})(self);\n",
              "</script> "
            ]
          },
          "metadata": {}
        },
        {
          "output_type": "stream",
          "name": "stdout",
          "text": [
            "Saving kaggle.json to kaggle.json\n"
          ]
        },
        {
          "output_type": "execute_result",
          "data": {
            "text/plain": [
              "{'kaggle.json': b'{\"username\":\"e61sambhavmishra\",\"key\":\"328e47e778ca0311b59fed3e92e908b3\"}'}"
            ]
          },
          "metadata": {},
          "execution_count": 1
        }
      ]
    },
    {
      "cell_type": "code",
      "source": [
        "!mkdir ~/.kaggle\n",
        "!cp /content/kaggle.json ~/.kaggle/kaggle.json"
      ],
      "metadata": {
        "id": "Cv35dXu-R3s0"
      },
      "execution_count": null,
      "outputs": []
    },
    {
      "cell_type": "code",
      "source": [
        "!kaggle competitions download -c challenges-in-representation-learning-facial-expression-recognition-challenge"
      ],
      "metadata": {
        "colab": {
          "base_uri": "https://localhost:8080/"
        },
        "id": "feE_yi4lR3p5",
        "outputId": "d5691856-602b-416a-908e-a02d3914dbb3"
      },
      "execution_count": null,
      "outputs": [
        {
          "output_type": "stream",
          "name": "stdout",
          "text": [
            "Warning: Your Kaggle API key is readable by other users on this system! To fix this, you can run 'chmod 600 /root/.kaggle/kaggle.json'\n",
            "Downloading challenges-in-representation-learning-facial-expression-recognition-challenge.zip to /content\n",
            " 99% 283M/285M [00:15<00:00, 25.6MB/s]\n",
            "100% 285M/285M [00:15<00:00, 19.8MB/s]\n"
          ]
        }
      ]
    },
    {
      "cell_type": "code",
      "source": [
        "!unzip /content/challenges-in-representation-learning-facial-expression-recognition-challenge.zip"
      ],
      "metadata": {
        "colab": {
          "base_uri": "https://localhost:8080/"
        },
        "id": "qUrb_i6LSUBc",
        "outputId": "9d72cfad-ead7-4e44-a8c7-46f9f539d25c"
      },
      "execution_count": null,
      "outputs": [
        {
          "output_type": "stream",
          "name": "stdout",
          "text": [
            "Archive:  /content/challenges-in-representation-learning-facial-expression-recognition-challenge.zip\n",
            "  inflating: example_submission.csv  \n",
            "  inflating: fer2013.tar.gz          \n",
            "  inflating: icml_face_data.csv      \n",
            "  inflating: test.csv                \n",
            "  inflating: train.csv               \n"
          ]
        }
      ]
    },
    {
      "cell_type": "code",
      "source": [
        "!tar -zxvf /content/fer2013.tar.gz -C /content/\n"
      ],
      "metadata": {
        "colab": {
          "base_uri": "https://localhost:8080/"
        },
        "id": "kLfMBjij0VEM",
        "outputId": "3e4849ce-28c6-4fc8-d0f9-24e6340eb8ca"
      },
      "execution_count": null,
      "outputs": [
        {
          "output_type": "stream",
          "name": "stdout",
          "text": [
            "fer2013/fer2013.csv\n",
            "fer2013/README\n",
            "fer2013/fer2013.bib\n",
            "fer2013/\n"
          ]
        }
      ]
    },
    {
      "cell_type": "code",
      "execution_count": null,
      "metadata": {
        "id": "cUV_5FEHPK3R"
      },
      "outputs": [],
      "source": [
        "import torch \n",
        "import torch.nn as nn \n",
        "import torchvision.models as models\n",
        "import torchvision.datasets as datasets\n",
        "import torchvision.transforms as transforms\n",
        "from torch.utils.data import Dataset, DataLoader\n",
        "import numpy as np\n",
        "import pandas as pd\n",
        "import cv2\n",
        "import matplotlib.pyplot as plt\n",
        "import os\n",
        "import torch.optim as optim"
      ]
    },
    {
      "cell_type": "code",
      "source": [
        "!mkdir datasets"
      ],
      "metadata": {
        "id": "WoWS-X5S1BPz"
      },
      "execution_count": null,
      "outputs": []
    },
    {
      "cell_type": "code",
      "source": [
        "# Load the FER2013 dataset from the CSV file \n",
        "data = pd.read_csv(\"/content/fer2013/fer2013.csv\") \n",
        "\n",
        "train_dataset = data[data[\"Usage\"] == \"Training\"] \n",
        "test_dataset = data[data[\"Usage\"] == \"PublicTest\"]\n",
        "\n",
        "train_dataset.to_csv(\"datasets/train.csv\", index=False) \n",
        "test_dataset.to_csv(\"datasets/test.csv\", index=False)"
      ],
      "metadata": {
        "id": "Iakf0gQlSmSe"
      },
      "execution_count": null,
      "outputs": []
    },
    {
      "cell_type": "code",
      "source": [
        "# Extract the pixel values and labels from the dataset\n",
        "pixels = train_dataset['pixels'].tolist() \n",
        "labels = train_dataset['emotion'].tolist()"
      ],
      "metadata": {
        "id": "QUT5_f7_S94X"
      },
      "execution_count": null,
      "outputs": []
    },
    {
      "cell_type": "code",
      "source": [
        "# Convert the pixel values to grayscale images \n",
        "images = []\n",
        "for pixel_sequence in pixels:\n",
        "    pixel_array = np.array(pixel_sequence.split(), dtype=np.uint8) \n",
        "    image = pixel_array.reshape((48, 48)) \n",
        "    image = cv2.cvtColor(image, cv2.COLOR_GRAY2RGB) \n",
        "    images.append(image) "
      ],
      "metadata": {
        "id": "059KXBS0S_CD"
      },
      "execution_count": null,
      "outputs": []
    },
    {
      "cell_type": "code",
      "source": [
        "# Print some statistics about the dataset \n",
        "print(f\"Number of images: {len(images)}\")\n",
        "print(f\"Number of labels: {len(labels)}\")\n",
        "print(f\"Label distribution: {np.bincount(labels)}\")"
      ],
      "metadata": {
        "colab": {
          "base_uri": "https://localhost:8080/"
        },
        "id": "3kmDH9zKTAJP",
        "outputId": "25643b3d-3fd8-429b-90f8-20e35e036708"
      },
      "execution_count": null,
      "outputs": [
        {
          "output_type": "stream",
          "name": "stdout",
          "text": [
            "Number of images: 28709\n",
            "Number of labels: 28709\n",
            "Label distribution: [3995  436 4097 7215 4830 3171 4965]\n"
          ]
        }
      ]
    },
    {
      "cell_type": "markdown",
      "source": [
        "## Labels:\n",
        "*    Anger \n",
        "*    Disgust\n",
        "*    Fear\n",
        "*    Happy\n",
        "*    Sadness \n",
        "*    Surprised \n",
        "*    Neutral"
      ],
      "metadata": {
        "id": "CR-Hmbu65kh5"
      }
    },
    {
      "cell_type": "code",
      "source": [
        "fig, axs = plt.subplots(1, 7, figsize=(20, 10)) \n",
        "for label in range(7):\n",
        "    image_index = labels.index(label) \n",
        "    pixel_sequence = pixels[image_index] \n",
        "    pixel_array = np.array(pixel_sequence.split(), dtype = np.uint8) \n",
        "    image = pixel_array.reshape((48, 48)) \n",
        "    image = cv2.cvtColor(image, cv2.COLOR_GRAY2RGB) \n",
        "    axs[label].imshow(image) \n",
        "    axs[label].set_title(f\"Label: {label}\") \n",
        "\n",
        "plt.show()"
      ],
      "metadata": {
        "colab": {
          "base_uri": "https://localhost:8080/",
          "height": 195
        },
        "id": "2aBVayVqTBwd",
        "outputId": "016c269c-2f29-4669-a142-5bb98df7c052"
      },
      "execution_count": null,
      "outputs": [
        {
          "output_type": "display_data",
          "data": {
            "text/plain": [
              "<Figure size 2000x1000 with 7 Axes>"
            ],
            "image/png": "[encoded data removed]"
          },
          "metadata": {}
        }
      ]
    },
    {
      "cell_type": "code",
      "source": [
        "# Load the ResNet-50 model\n",
        "resnet = models.resnet50(pretrained=True) "
      ],
      "metadata": {
        "colab": {
          "base_uri": "https://localhost:8080/"
        },
        "id": "OFu6BY0kTENv",
        "outputId": "132a6b0c-eb0f-4e68-99f2-09e138a95be3"
      },
      "execution_count": null,
      "outputs": [
        {
          "output_type": "stream",
          "name": "stderr",
          "text": [
            "/usr/local/lib/python3.10/dist-packages/torchvision/models/_utils.py:208: UserWarning: The parameter 'pretrained' is deprecated since 0.13 and may be removed in the future, please use 'weights' instead.\n",
            "  warnings.warn(\n",
            "/usr/local/lib/python3.10/dist-packages/torchvision/models/_utils.py:223: UserWarning: Arguments other than a weight enum or `None` for 'weights' are deprecated since 0.13 and may be removed in the future. The current behavior is equivalent to passing `weights=ResNet50_Weights.IMAGENET1K_V1`. You can also use `weights=ResNet50_Weights.DEFAULT` to get the most up-to-date weights.\n",
            "  warnings.warn(msg)\n",
            "Downloading: \"https://download.pytorch.org/models/resnet50-0676ba61.pth\" to /root/.cache/torch/hub/checkpoints/resnet50-0676ba61.pth\n",
            "100%|██████████| 97.8M/97.8M [00:00<00:00, 159MB/s]\n"
          ]
        }
      ]
    },
    {
      "cell_type": "code",
      "source": [
        "num_classes = 7 # anger, disgust, fear, happiness, sadness, surprise, and neutral\n",
        "\n",
        "# Set the number epochs and batch size\n",
        "num_epochs = 50 \n",
        "batch_size = 32"
      ],
      "metadata": {
        "id": "sseEvY8-TfpA"
      },
      "execution_count": null,
      "outputs": []
    },
    {
      "cell_type": "code",
      "source": [
        "class FER2013Dataset(Dataset):\n",
        "    def __init__(self, csv_file):\n",
        "        self.data = pd.read_csv(csv_file) \n",
        "        self.pixels = self.data['pixels'].tolist() \n",
        "        self.labels = self.data['emotion'].tolist()\n",
        "\n",
        "    def __len__(self):\n",
        "        return len(self.data) \n",
        "    \n",
        "    def __getitem__(self, idx):\n",
        "        pixel_sequence = self.pixels[idx] \n",
        "        pixel_array = np.array(pixel_sequence.split(), dtype=np.uint8) \n",
        "        image = pixel_array.reshape((48, 48)) \n",
        "        image = cv2.cvtColor(image, cv2.COLOR_GRAY2RGB)\n",
        "        image_tensor = torch.from_numpy(image).permute(2, 0, 1).float()/255.0 \n",
        "        label_tensor = torch.tensor(self.labels[idx], dtype = torch.long) \n",
        "        return image_tensor, label_tensor \n",
        "        "
      ],
      "metadata": {
        "id": "MwMLjp8WTtzL"
      },
      "execution_count": null,
      "outputs": []
    },
    {
      "cell_type": "code",
      "source": [
        "# Load the FER2013 dataset \n",
        "train_dataset = FER2013Dataset('/content/datasets/train.csv') \n",
        "test_dataset = FER2013Dataset('/content/datasets/test.csv')"
      ],
      "metadata": {
        "id": "wW5K0U3jTvbC"
      },
      "execution_count": null,
      "outputs": []
    },
    {
      "cell_type": "code",
      "source": [
        "# Create DataLoader objects for the training and testing sets\n",
        "\n",
        "train_loader = DataLoader(train_dataset, batch_size = 32, shuffle = True) \n",
        "test_loader = DataLoader(test_dataset, batch_size = 32, shuffle=False)"
      ],
      "metadata": {
        "id": "GbYUakekT4H7"
      },
      "execution_count": null,
      "outputs": []
    },
    {
      "cell_type": "code",
      "source": [
        "# Modify the last layer for emotion recognition\n",
        "num_ftrs = resnet.fc.in_features \n",
        "resnet.fc = nn.Linear(num_ftrs, num_classes) # num_classes is the number of emotions to predict"
      ],
      "metadata": {
        "id": "XiuOcO-dT5Un"
      },
      "execution_count": null,
      "outputs": []
    },
    {
      "cell_type": "code",
      "source": [
        "# Define the loss function and optimizer \n",
        "criterion = nn.CrossEntropyLoss() \n",
        "optimizer = torch.optim.SGD(resnet.parameters(), lr=0.001, momentum=0.9)"
      ],
      "metadata": {
        "id": "S39Z33aMT6vn"
      },
      "execution_count": null,
      "outputs": []
    },
    {
      "cell_type": "code",
      "source": [
        "# Train the model on GPU\n",
        "device = torch.device(\"cuda:0\" if torch.cuda.is_available() else \"cpu\")\n",
        "resnet.to(device)\n",
        "criterion = nn.CrossEntropyLoss().to(device)\n",
        "optimizer = optim.SGD(resnet.parameters(), lr=0.001, momentum=0.9)\n",
        "\n",
        "for epoch in range(num_epochs):\n",
        "    running_loss = 0.0\n",
        "    for i, (inputs, labels) in enumerate(train_loader):\n",
        "        # Move data to GPU\n",
        "        inputs, labels = inputs.to(device), labels.to(device)\n",
        "\n",
        "        # Forward pass\n",
        "        outputs = resnet(inputs) \n",
        "        loss = criterion(outputs, labels) \n",
        "\n",
        "        # Backward pass and optimization \n",
        "        optimizer.zero_grad() \n",
        "        loss.backward() \n",
        "        optimizer.step()\n",
        "\n",
        "        # Compute statistics \n",
        "        running_loss += loss.item() \n",
        "        if i % 200 == 199: # Print statistics every 200 mini-batches \n",
        "            print('[Epoch %d, Mini-batch %d] Average Loss: %.3f' %(epoch + 1, i + 1, running_loss / 200)) \n",
        "            running_loss = 0.0 # Reset the running loss\n"
      ],
      "metadata": {
        "colab": {
          "base_uri": "https://localhost:8080/"
        },
        "id": "HLELsJF92Vyr",
        "outputId": "be61244a-f7ca-44d7-dce5-4b1e3ae0eed0"
      },
      "execution_count": null,
      "outputs": [
        {
          "output_type": "stream",
          "name": "stdout",
          "text": [
            "[Epoch 1, Mini-batch 200] Average Loss: 0.827\n",
            "[Epoch 1, Mini-batch 400] Average Loss: 0.900\n",
            "[Epoch 1, Mini-batch 600] Average Loss: 0.911\n",
            "[Epoch 1, Mini-batch 800] Average Loss: 0.909\n",
            "[Epoch 2, Mini-batch 200] Average Loss: 0.644\n",
            "[Epoch 2, Mini-batch 400] Average Loss: 0.707\n",
            "[Epoch 2, Mini-batch 600] Average Loss: 0.727\n",
            "[Epoch 2, Mini-batch 800] Average Loss: 0.761\n",
            "[Epoch 3, Mini-batch 200] Average Loss: 0.485\n",
            "[Epoch 3, Mini-batch 400] Average Loss: 0.527\n",
            "[Epoch 3, Mini-batch 600] Average Loss: 0.605\n",
            "[Epoch 3, Mini-batch 800] Average Loss: 0.629\n",
            "[Epoch 4, Mini-batch 200] Average Loss: 0.377\n",
            "[Epoch 4, Mini-batch 400] Average Loss: 0.433\n",
            "[Epoch 4, Mini-batch 600] Average Loss: 0.482\n",
            "[Epoch 4, Mini-batch 800] Average Loss: 0.513\n",
            "[Epoch 5, Mini-batch 200] Average Loss: 0.316\n",
            "[Epoch 5, Mini-batch 400] Average Loss: 0.384\n",
            "[Epoch 5, Mini-batch 600] Average Loss: 0.388\n",
            "[Epoch 5, Mini-batch 800] Average Loss: 0.421\n",
            "[Epoch 6, Mini-batch 200] Average Loss: 0.278\n",
            "[Epoch 6, Mini-batch 400] Average Loss: 0.279\n",
            "[Epoch 6, Mini-batch 600] Average Loss: 0.318\n",
            "[Epoch 6, Mini-batch 800] Average Loss: 0.324\n",
            "[Epoch 7, Mini-batch 200] Average Loss: 0.229\n",
            "[Epoch 7, Mini-batch 400] Average Loss: 0.234\n",
            "[Epoch 7, Mini-batch 600] Average Loss: 0.249\n",
            "[Epoch 7, Mini-batch 800] Average Loss: 0.275\n",
            "[Epoch 8, Mini-batch 200] Average Loss: 0.163\n",
            "[Epoch 8, Mini-batch 400] Average Loss: 0.191\n",
            "[Epoch 8, Mini-batch 600] Average Loss: 0.197\n",
            "[Epoch 8, Mini-batch 800] Average Loss: 0.209\n",
            "[Epoch 9, Mini-batch 200] Average Loss: 0.141\n",
            "[Epoch 9, Mini-batch 400] Average Loss: 0.166\n",
            "[Epoch 9, Mini-batch 600] Average Loss: 0.181\n",
            "[Epoch 9, Mini-batch 800] Average Loss: 0.203\n",
            "[Epoch 10, Mini-batch 200] Average Loss: 0.122\n",
            "[Epoch 10, Mini-batch 400] Average Loss: 0.125\n",
            "[Epoch 10, Mini-batch 600] Average Loss: 0.145\n",
            "[Epoch 10, Mini-batch 800] Average Loss: 0.160\n",
            "[Epoch 11, Mini-batch 200] Average Loss: 0.125\n",
            "[Epoch 11, Mini-batch 400] Average Loss: 0.117\n",
            "[Epoch 11, Mini-batch 600] Average Loss: 0.129\n",
            "[Epoch 11, Mini-batch 800] Average Loss: 0.137\n",
            "[Epoch 12, Mini-batch 200] Average Loss: 0.177\n",
            "[Epoch 12, Mini-batch 400] Average Loss: 0.140\n",
            "[Epoch 12, Mini-batch 600] Average Loss: 0.135\n",
            "[Epoch 12, Mini-batch 800] Average Loss: 0.129\n",
            "[Epoch 13, Mini-batch 200] Average Loss: 0.079\n",
            "[Epoch 13, Mini-batch 400] Average Loss: 0.083\n",
            "[Epoch 13, Mini-batch 600] Average Loss: 0.114\n",
            "[Epoch 13, Mini-batch 800] Average Loss: 0.096\n",
            "[Epoch 14, Mini-batch 200] Average Loss: 0.082\n",
            "[Epoch 14, Mini-batch 400] Average Loss: 0.093\n",
            "[Epoch 14, Mini-batch 600] Average Loss: 0.084\n",
            "[Epoch 14, Mini-batch 800] Average Loss: 0.093\n",
            "[Epoch 15, Mini-batch 200] Average Loss: 0.060\n",
            "[Epoch 15, Mini-batch 400] Average Loss: 0.071\n",
            "[Epoch 15, Mini-batch 600] Average Loss: 0.072\n",
            "[Epoch 15, Mini-batch 800] Average Loss: 0.090\n",
            "[Epoch 16, Mini-batch 200] Average Loss: 0.062\n",
            "[Epoch 16, Mini-batch 400] Average Loss: 0.068\n",
            "[Epoch 16, Mini-batch 600] Average Loss: 0.065\n",
            "[Epoch 16, Mini-batch 800] Average Loss: 0.072\n",
            "[Epoch 17, Mini-batch 200] Average Loss: 0.098\n",
            "[Epoch 17, Mini-batch 400] Average Loss: 0.084\n",
            "[Epoch 17, Mini-batch 600] Average Loss: 0.098\n",
            "[Epoch 17, Mini-batch 800] Average Loss: 0.092\n",
            "[Epoch 18, Mini-batch 200] Average Loss: 0.047\n",
            "[Epoch 18, Mini-batch 400] Average Loss: 0.059\n",
            "[Epoch 18, Mini-batch 600] Average Loss: 0.067\n",
            "[Epoch 18, Mini-batch 800] Average Loss: 0.076\n",
            "[Epoch 19, Mini-batch 200] Average Loss: 0.050\n",
            "[Epoch 19, Mini-batch 400] Average Loss: 0.048\n",
            "[Epoch 19, Mini-batch 600] Average Loss: 0.052\n",
            "[Epoch 19, Mini-batch 800] Average Loss: 0.043\n",
            "[Epoch 20, Mini-batch 200] Average Loss: 0.036\n",
            "[Epoch 20, Mini-batch 400] Average Loss: 0.043\n",
            "[Epoch 20, Mini-batch 600] Average Loss: 0.048\n",
            "[Epoch 20, Mini-batch 800] Average Loss: 0.042\n",
            "[Epoch 21, Mini-batch 200] Average Loss: 0.120\n",
            "[Epoch 21, Mini-batch 400] Average Loss: 0.075\n",
            "[Epoch 21, Mini-batch 600] Average Loss: 0.069\n",
            "[Epoch 21, Mini-batch 800] Average Loss: 0.075\n",
            "[Epoch 22, Mini-batch 200] Average Loss: 0.055\n",
            "[Epoch 22, Mini-batch 400] Average Loss: 0.065\n",
            "[Epoch 22, Mini-batch 600] Average Loss: 0.057\n",
            "[Epoch 22, Mini-batch 800] Average Loss: 0.060\n",
            "[Epoch 23, Mini-batch 200] Average Loss: 0.034\n",
            "[Epoch 23, Mini-batch 400] Average Loss: 0.046\n",
            "[Epoch 23, Mini-batch 600] Average Loss: 0.040\n",
            "[Epoch 23, Mini-batch 800] Average Loss: 0.049\n",
            "[Epoch 24, Mini-batch 200] Average Loss: 0.075\n",
            "[Epoch 24, Mini-batch 400] Average Loss: 0.049\n",
            "[Epoch 24, Mini-batch 600] Average Loss: 0.057\n",
            "[Epoch 24, Mini-batch 800] Average Loss: 0.054\n",
            "[Epoch 25, Mini-batch 200] Average Loss: 0.042\n",
            "[Epoch 25, Mini-batch 400] Average Loss: 0.042\n",
            "[Epoch 25, Mini-batch 600] Average Loss: 0.049\n",
            "[Epoch 25, Mini-batch 800] Average Loss: 0.045\n",
            "[Epoch 26, Mini-batch 200] Average Loss: 0.030\n",
            "[Epoch 26, Mini-batch 400] Average Loss: 0.029\n",
            "[Epoch 26, Mini-batch 600] Average Loss: 0.030\n",
            "[Epoch 26, Mini-batch 800] Average Loss: 0.045\n",
            "[Epoch 27, Mini-batch 200] Average Loss: 0.060\n",
            "[Epoch 27, Mini-batch 400] Average Loss: 0.056\n",
            "[Epoch 27, Mini-batch 600] Average Loss: 0.054\n",
            "[Epoch 27, Mini-batch 800] Average Loss: 0.051\n",
            "[Epoch 28, Mini-batch 200] Average Loss: 0.071\n",
            "[Epoch 28, Mini-batch 400] Average Loss: 0.062\n",
            "[Epoch 28, Mini-batch 600] Average Loss: 0.052\n",
            "[Epoch 28, Mini-batch 800] Average Loss: 0.049\n",
            "[Epoch 29, Mini-batch 200] Average Loss: 0.041\n",
            "[Epoch 29, Mini-batch 400] Average Loss: 0.032\n",
            "[Epoch 29, Mini-batch 600] Average Loss: 0.027\n",
            "[Epoch 29, Mini-batch 800] Average Loss: 0.030\n",
            "[Epoch 30, Mini-batch 200] Average Loss: 0.083\n",
            "[Epoch 30, Mini-batch 400] Average Loss: 0.056\n",
            "[Epoch 30, Mini-batch 600] Average Loss: 0.046\n",
            "[Epoch 30, Mini-batch 800] Average Loss: 0.050\n",
            "[Epoch 31, Mini-batch 200] Average Loss: 0.035\n",
            "[Epoch 31, Mini-batch 400] Average Loss: 0.031\n",
            "[Epoch 31, Mini-batch 600] Average Loss: 0.036\n",
            "[Epoch 31, Mini-batch 800] Average Loss: 0.047\n",
            "[Epoch 32, Mini-batch 200] Average Loss: 0.053\n",
            "[Epoch 32, Mini-batch 400] Average Loss: 0.038\n",
            "[Epoch 32, Mini-batch 600] Average Loss: 0.039\n",
            "[Epoch 32, Mini-batch 800] Average Loss: 0.032\n",
            "[Epoch 33, Mini-batch 200] Average Loss: 0.022\n",
            "[Epoch 33, Mini-batch 400] Average Loss: 0.025\n",
            "[Epoch 33, Mini-batch 600] Average Loss: 0.028\n",
            "[Epoch 33, Mini-batch 800] Average Loss: 0.027\n",
            "[Epoch 34, Mini-batch 200] Average Loss: 0.020\n",
            "[Epoch 34, Mini-batch 400] Average Loss: 0.020\n",
            "[Epoch 34, Mini-batch 600] Average Loss: 0.020\n",
            "[Epoch 34, Mini-batch 800] Average Loss: 0.021\n",
            "[Epoch 35, Mini-batch 200] Average Loss: 0.021\n",
            "[Epoch 35, Mini-batch 400] Average Loss: 0.025\n",
            "[Epoch 35, Mini-batch 600] Average Loss: 0.029\n",
            "[Epoch 35, Mini-batch 800] Average Loss: 0.026\n",
            "[Epoch 36, Mini-batch 200] Average Loss: 0.017\n",
            "[Epoch 36, Mini-batch 400] Average Loss: 0.013\n",
            "[Epoch 36, Mini-batch 600] Average Loss: 0.027\n",
            "[Epoch 36, Mini-batch 800] Average Loss: 0.023\n",
            "[Epoch 37, Mini-batch 200] Average Loss: 0.013\n",
            "[Epoch 37, Mini-batch 400] Average Loss: 0.016\n",
            "[Epoch 37, Mini-batch 600] Average Loss: 0.015\n",
            "[Epoch 37, Mini-batch 800] Average Loss: 0.016\n",
            "[Epoch 38, Mini-batch 200] Average Loss: 0.013\n",
            "[Epoch 38, Mini-batch 400] Average Loss: 0.014\n",
            "[Epoch 38, Mini-batch 600] Average Loss: 0.021\n",
            "[Epoch 38, Mini-batch 800] Average Loss: 0.018\n",
            "[Epoch 39, Mini-batch 400] Average Loss: 0.012\n",
            "[Epoch 39, Mini-batch 600] Average Loss: 0.011\n",
            "[Epoch 39, Mini-batch 800] Average Loss: 0.008\n",
            "[Epoch 40, Mini-batch 200] Average Loss: 0.076\n",
            "[Epoch 40, Mini-batch 400] Average Loss: 0.034\n",
            "[Epoch 40, Mini-batch 600] Average Loss: 0.036\n",
            "[Epoch 40, Mini-batch 800] Average Loss: 0.038\n",
            "[Epoch 41, Mini-batch 200] Average Loss: 0.072\n",
            "[Epoch 41, Mini-batch 400] Average Loss: 0.036\n",
            "[Epoch 41, Mini-batch 600] Average Loss: 0.037\n",
            "[Epoch 41, Mini-batch 800] Average Loss: 0.033\n",
            "[Epoch 42, Mini-batch 200] Average Loss: 0.020\n",
            "[Epoch 42, Mini-batch 400] Average Loss: 0.019\n",
            "[Epoch 42, Mini-batch 600] Average Loss: 0.020\n",
            "[Epoch 42, Mini-batch 800] Average Loss: 0.028\n",
            "[Epoch 43, Mini-batch 200] Average Loss: 0.016\n",
            "[Epoch 43, Mini-batch 400] Average Loss: 0.017\n",
            "[Epoch 43, Mini-batch 600] Average Loss: 0.020\n",
            "[Epoch 43, Mini-batch 800] Average Loss: 0.020\n",
            "[Epoch 44, Mini-batch 200] Average Loss: 0.014\n",
            "[Epoch 44, Mini-batch 400] Average Loss: 0.017\n",
            "[Epoch 44, Mini-batch 600] Average Loss: 0.019\n",
            "[Epoch 44, Mini-batch 800] Average Loss: 0.018\n",
            "[Epoch 45, Mini-batch 200] Average Loss: 0.017\n",
            "[Epoch 45, Mini-batch 400] Average Loss: 0.016\n",
            "[Epoch 45, Mini-batch 600] Average Loss: 0.014\n",
            "[Epoch 45, Mini-batch 800] Average Loss: 0.018\n",
            "[Epoch 46, Mini-batch 200] Average Loss: 0.015\n",
            "[Epoch 46, Mini-batch 400] Average Loss: 0.014\n",
            "[Epoch 46, Mini-batch 600] Average Loss: 0.014\n",
            "[Epoch 46, Mini-batch 800] Average Loss: 0.017\n",
            "[Epoch 47, Mini-batch 200] Average Loss: 0.015\n",
            "[Epoch 47, Mini-batch 400] Average Loss: 0.014\n",
            "[Epoch 47, Mini-batch 600] Average Loss: 0.013\n",
            "[Epoch 47, Mini-batch 800] Average Loss: 0.015\n",
            "[Epoch 48, Mini-batch 200] Average Loss: 0.010\n",
            "[Epoch 48, Mini-batch 400] Average Loss: 0.015\n",
            "[Epoch 48, Mini-batch 600] Average Loss: 0.013\n",
            "[Epoch 48, Mini-batch 800] Average Loss: 0.013\n",
            "[Epoch 49, Mini-batch 200] Average Loss: 0.010\n",
            "[Epoch 49, Mini-batch 400] Average Loss: 0.009\n",
            "[Epoch 49, Mini-batch 600] Average Loss: 0.011\n",
            "[Epoch 49, Mini-batch 800] Average Loss: 0.013\n",
            "[Epoch 50, Mini-batch 200] Average Loss: 0.048\n",
            "[Epoch 50, Mini-batch 400] Average Loss: 0.030\n",
            "[Epoch 50, Mini-batch 600] Average Loss: 0.030\n",
            "[Epoch 50, Mini-batch 800] Average Loss: 0.038\n"
          ]
        }
      ]
    },
    {
      "cell_type": "code",
      "source": [
        "# Evaluate the model on the testing set on GPU\n",
        "correct = 0 \n",
        "total = 0 \n",
        "test_loss = 0\n",
        "\n",
        "with torch.no_grad():\n",
        "    for i, (inputs, labels) in enumerate(test_loader):\n",
        "        # Move data to GPU\n",
        "        inputs, labels = inputs.to(device), labels.to(device)\n",
        "\n",
        "        # Forward pass on GPU\n",
        "        outputs = resnet(inputs)\n",
        "        loss = criterion(outputs, labels)\n",
        "        test_loss += loss.item()\n",
        "\n",
        "        # Compute predictions on GPU\n",
        "        _, predicted = torch.max(outputs.data, 1) \n",
        "\n",
        "        # Compute statistics on GPU\n",
        "        total += labels.size(0) \n",
        "        correct += (predicted == labels).sum().item() \n",
        "\n",
        "        if i % 10 == 9:\n",
        "            test_accuracy = 100 * correct / total \n",
        "            test_loss = test_loss / 10 \n",
        "            print('[Mini-batch %d] Test Loss: %.3f, Test Accuracy: %.3f' %(i + 1, test_loss, test_accuracy))\n",
        "            test_loss = 0.0 \n",
        "            correct = 0\n",
        "            total  = 0 \n",
        "\n",
        "test_accuracy = 100 * correct / total \n",
        "print(f\"Accuracy on the testing set: {test_accuracy}%\")\n"
      ],
      "metadata": {
        "colab": {
          "base_uri": "https://localhost:8080/"
        },
        "id": "0YrKFNX_24Cq",
        "outputId": "f3eac6c7-a65a-4f13-97b0-54956e625d66"
      },
      "execution_count": null,
      "outputs": [
        {
          "output_type": "stream",
          "name": "stdout",
          "text": [
            "[Mini-batch 10] Test Loss: 2.720, Test Accuracy: 65.312\n",
            "[Mini-batch 20] Test Loss: 2.538, Test Accuracy: 66.875\n",
            "[Mini-batch 30] Test Loss: 2.829, Test Accuracy: 65.312\n",
            "[Mini-batch 40] Test Loss: 3.140, Test Accuracy: 64.688\n",
            "[Mini-batch 50] Test Loss: 2.638, Test Accuracy: 65.938\n",
            "[Mini-batch 60] Test Loss: 2.951, Test Accuracy: 64.062\n",
            "[Mini-batch 70] Test Loss: 2.512, Test Accuracy: 63.438\n",
            "[Mini-batch 80] Test Loss: 2.683, Test Accuracy: 65.938\n",
            "[Mini-batch 90] Test Loss: 3.071, Test Accuracy: 61.250\n",
            "[Mini-batch 100] Test Loss: 3.284, Test Accuracy: 61.875\n",
            "[Mini-batch 110] Test Loss: 3.174, Test Accuracy: 60.000\n",
            "Accuracy on the testing set: 62.31884057971015%\n"
          ]
        }
      ]
    },
    {
      "cell_type": "code",
      "source": [
        "# Save the model:\n",
        "# Save the model to a file\n",
        "torch.save(resnet.state_dict(), \"resnet_model2.pt\")\n"
      ],
      "metadata": {
        "id": "gsW1QwEh3uZY"
      },
      "execution_count": null,
      "outputs": []
    }
  ]
}